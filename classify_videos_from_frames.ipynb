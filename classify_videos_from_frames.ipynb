{
 "cells": [
  {
   "cell_type": "code",
   "execution_count": 16,
   "metadata": {},
   "outputs": [],
   "source": [
    "from random import shuffle\n",
    "\n",
    "import os\n",
    "import numpy as np\n",
    "import torch\n",
    "import torchvision\n",
    "from matplotlib import pyplot as plt\n",
    "from torch import nn\n",
    "from torch.nn import functional as F\n",
    "from torchvision import transforms\n",
    "from tqdm import tqdm, tqdm_notebook\n",
    "\n",
    "from data_utils import ImageClipDataset, split_clips_dataset"
   ]
  },
  {
   "cell_type": "code",
   "execution_count": 18,
   "metadata": {},
   "outputs": [],
   "source": [
    "BATCH_SIZE = 16\n",
    "NUM_THREADS = 4"
   ]
  },
  {
   "cell_type": "code",
   "execution_count": 10,
   "metadata": {},
   "outputs": [],
   "source": [
    "device = 'cuda' if torch.cuda.is_available() else 'cpu'"
   ]
  },
  {
   "cell_type": "code",
   "execution_count": 11,
   "metadata": {},
   "outputs": [],
   "source": [
    "data_transforms = {\n",
    "    'train': transforms.Compose([\n",
    "        transforms.Resize(256),\n",
    "        transforms.RandomAffine(15, (0.2, 0.2)),\n",
    "        transforms.CenterCrop(224),\n",
    "        transforms.ToTensor(),\n",
    "        # transforms.Normalize(mean=[0.485, 0.456, 0.406],\n",
    "        #                      std=[0.229, 0.224, 0.225]),\n",
    "    ]),\n",
    "    'test': transforms.Compose([\n",
    "        transforms.Resize(256),\n",
    "        transforms.CenterCrop(224),\n",
    "        transforms.ToTensor(),\n",
    "        # transforms.Normalize(mean=[0.485, 0.456, 0.406],\n",
    "        #                      std=[0.229, 0.224, 0.225]),\n",
    "    ])\n",
    "}"
   ]
  },
  {
   "cell_type": "code",
   "execution_count": 12,
   "metadata": {},
   "outputs": [
    {
     "name": "stdout",
     "output_type": "stream",
     "text": [
      " "
     ]
    },
    {
     "data": {
      "text/plain": [
       "         2205860 function calls in 1.263 seconds\n",
       "\n",
       "   Ordered by: internal time\n",
       "\n",
       "   ncalls  tottime  percall  cumtime  percall filename:lineno(function)\n",
       "   301695    0.292    0.000    0.424    0.000 ntpath.py:122(splitdrive)\n",
       "        1    0.251    0.251    1.258    1.258 data_utils.py:72(_make_dataset)\n",
       "     6637    0.220    0.000    0.220    0.000 {built-in method nt.scandir}\n",
       "    61897    0.181    0.000    0.623    0.000 ntpath.py:75(join)\n",
       "    55250    0.054    0.000    0.133    0.000 folder.py:9(has_file_allowed_extension)\n",
       "   301696    0.050    0.000    0.050    0.000 {method 'replace' of 'str' objects}\n",
       "   363594    0.046    0.000    0.046    0.000 {built-in method builtins.isinstance}\n",
       "   165750    0.035    0.000    0.056    0.000 folder.py:19(<genexpr>)\n",
       "   363594    0.031    0.000    0.031    0.000 {built-in method nt.fspath}\n",
       "     1100    0.022    0.000    0.023    0.000 data_utils.py:83(<listcomp>)\n",
       "   301713    0.022    0.000    0.022    0.000 {built-in method builtins.len}\n",
       "   110500    0.021    0.000    0.021    0.000 {method 'endswith' of 'str' objects}\n",
       "    55250    0.018    0.000    0.066    0.000 {built-in method builtins.any}\n",
       "    55250    0.007    0.000    0.007    0.000 {method 'lower' of 'str' objects}\n",
       "    55250    0.006    0.000    0.006    0.000 {method 'append' of 'list' objects}\n",
       "        1    0.004    0.004    1.263    1.263 <string>:1(<module>)\n",
       "       11    0.002    0.000    0.002    0.000 data_utils.py:76(<listcomp>)\n",
       "        1    0.002    0.002    0.002    0.002 data_utils.py:55(<listcomp>)\n",
       "     6636    0.001    0.000    0.001    0.000 {method 'is_dir' of 'nt.DirEntry' objects}\n",
       "        1    0.000    0.000    0.000    0.000 data_utils.py:67(<listcomp>)\n",
       "        1    0.000    0.000    0.003    0.003 data_utils.py:76(<dictcomp>)\n",
       "        1    0.000    0.000    1.260    1.260 data_utils.py:41(__init__)\n",
       "        1    0.000    0.000    1.263    1.263 {built-in method builtins.exec}\n",
       "        1    0.000    0.000    0.000    0.000 data_utils.py:65(_find_classes)\n",
       "        1    0.000    0.000    0.000    0.000 ntpath.py:472(normpath)\n",
       "        1    0.000    0.000    0.000    0.000 ntpath.py:539(abspath)\n",
       "        1    0.000    0.000    0.000    0.000 data_utils.py:63(<dictcomp>)\n",
       "        1    0.000    0.000    0.000    0.000 {built-in method builtins.sum}\n",
       "        1    0.000    0.000    0.000    0.000 data_utils.py:69(<dictcomp>)\n",
       "        1    0.000    0.000    0.000    0.000 data_utils.py:62(<dictcomp>)\n",
       "        1    0.000    0.000    0.000    0.000 {method 'sort' of 'list' objects}\n",
       "        2    0.000    0.000    0.000    0.000 {method 'startswith' of 'str' objects}\n",
       "        1    0.000    0.000    0.000    0.000 {built-in method nt._getfullpathname}\n",
       "       11    0.000    0.000    0.000    0.000 data_utils.py:61(<lambda>)\n",
       "        1    0.000    0.000    0.000    0.000 {method 'split' of 'str' objects}\n",
       "        2    0.000    0.000    0.000    0.000 {method 'items' of 'dict' objects}\n",
       "        1    0.000    0.000    0.000    0.000 {method 'values' of 'dict' objects}\n",
       "        1    0.000    0.000    0.000    0.000 {method 'lstrip' of 'str' objects}\n",
       "        1    0.000    0.000    0.000    0.000 {method 'join' of 'str' objects}\n",
       "        1    0.000    0.000    0.000    0.000 {method 'disable' of '_lsprof.Profiler' objects}\n",
       "        1    0.000    0.000    0.000    0.000 {method 'keys' of 'dict' objects}"
      ]
     },
     "metadata": {},
     "output_type": "display_data"
    }
   ],
   "source": [
    "%prun clips = ImageClipDataset('./data/images/', transform=data_transforms['train'])"
   ]
  },
  {
   "cell_type": "code",
   "execution_count": 20,
   "metadata": {},
   "outputs": [
    {
     "name": "stdout",
     "output_type": "stream",
     "text": [
      "Dataset ImageClipDataset\n",
      "    Number of classes: 11\n",
      "    Number of videos: 1100\n",
      "    Number of datapoints: 55250\n",
      "    Root Location: D:\\Studies\\FEEC\\sumarizacao\\data\\images\n",
      "    Transforms (if any): Compose(\n",
      "                             Resize(size=256, interpolation=PIL.Image.BILINEAR)\n",
      "                             RandomAffine(degrees=(-15, 15), translate=(0.2, 0.2))\n",
      "                             CenterCrop(size=(224, 224))\n",
      "                             ToTensor()\n",
      "                         )\n",
      "    Target Transforms (if any): None\n"
     ]
    }
   ],
   "source": [
    "print(clips)"
   ]
  },
  {
   "cell_type": "code",
   "execution_count": 21,
   "metadata": {},
   "outputs": [
    {
     "data": {
      "text/plain": [
       "(tensor([[[0.0000, 0.0000, 0.0000,  ..., 0.1373, 0.1373, 0.1373],\n",
       "          [0.0000, 0.0000, 0.0000,  ..., 0.1373, 0.1373, 0.1373],\n",
       "          [0.0000, 0.0000, 0.0000,  ..., 0.1373, 0.1373, 0.1373],\n",
       "          ...,\n",
       "          [0.1333, 0.1333, 0.1333,  ..., 0.1529, 0.1529, 0.1490],\n",
       "          [0.1333, 0.1333, 0.1333,  ..., 0.1490, 0.1490, 0.1490],\n",
       "          [0.1333, 0.1333, 0.1333,  ..., 0.1490, 0.1490, 0.1490]],\n",
       " \n",
       "         [[0.0000, 0.0000, 0.0000,  ..., 0.1176, 0.1176, 0.1176],\n",
       "          [0.0000, 0.0000, 0.0000,  ..., 0.1176, 0.1176, 0.1176],\n",
       "          [0.0000, 0.0000, 0.0000,  ..., 0.1176, 0.1176, 0.1176],\n",
       "          ...,\n",
       "          [0.1176, 0.1176, 0.1176,  ..., 0.1255, 0.1255, 0.1294],\n",
       "          [0.1176, 0.1176, 0.1176,  ..., 0.1294, 0.1294, 0.1294],\n",
       "          [0.1137, 0.1176, 0.1176,  ..., 0.1294, 0.1294, 0.1294]],\n",
       " \n",
       "         [[0.0000, 0.0000, 0.0000,  ..., 0.6118, 0.6118, 0.6118],\n",
       "          [0.0000, 0.0000, 0.0000,  ..., 0.6118, 0.6118, 0.6118],\n",
       "          [0.0000, 0.0000, 0.0000,  ..., 0.6118, 0.6118, 0.6118],\n",
       "          ...,\n",
       "          [0.5922, 0.5922, 0.5922,  ..., 0.6353, 0.6353, 0.6353],\n",
       "          [0.5922, 0.5922, 0.5922,  ..., 0.6353, 0.6353, 0.6353],\n",
       "          [0.5922, 0.5922, 0.5922,  ..., 0.6353, 0.6353, 0.6353]]]),\n",
       " 4,\n",
       " 'AsQCI4SHCgM.mp4',\n",
       " 4)"
      ]
     },
     "execution_count": 21,
     "metadata": {},
     "output_type": "execute_result"
    }
   ],
   "source": [
    "clips[np.random.randint(0, len(clips))]"
   ]
  },
  {
   "cell_type": "code",
   "execution_count": 14,
   "metadata": {},
   "outputs": [],
   "source": [
    "train_set, validation_set = split_clips_dataset(clips, 0.2)"
   ]
  },
  {
   "cell_type": "code",
   "execution_count": 19,
   "metadata": {},
   "outputs": [],
   "source": [
    "train_loader = torch.utils.data.DataLoader(train_set, batch_size=BATCH_SIZE,\n",
    "                                           shuffle=True, num_workers=NUM_THREADS)\n",
    "validation_loader = torch.utils.data.DataLoader(validation_set, batch_size=BATCH_SIZE,\n",
    "                                                shuffle=False, num_workers=NUM_THREADS)"
   ]
  },
  {
   "cell_type": "code",
   "execution_count": 8,
   "metadata": {},
   "outputs": [],
   "source": [
    "class VideoFrameClassifier(nn.Module):\n",
    "    def __init__(self, pretrained_model):\n",
    "        super(VideoFrameClassifier, self).__init__()\n",
    "        \n",
    "        self.base = nn.Sequential(*list(pretrained_model.children())[:-1])\n",
    "        self.classifier = nn.Linear(in_features=2048, out_features=13, bias=True)\n",
    "        \n",
    "    def forward(self, images):\n",
    "        batch_size = images.shape[0]\n",
    "        X = F.relu(self.base(images))\n",
    "        X = X.view(batch_size, -1)\n",
    "        X = F.softmax(self.classifier(X), dim=-1)\n",
    "        return X"
   ]
  },
  {
   "cell_type": "code",
   "execution_count": 9,
   "metadata": {},
   "outputs": [],
   "source": [
    "video_classifier = VideoFrameClassifier(base_resnet50)\n",
    "video_classifier = video_classifier.to(device)"
   ]
  },
  {
   "cell_type": "code",
   "execution_count": 10,
   "metadata": {},
   "outputs": [],
   "source": [
    "optimizer = torch.optim.Adam(video_classifier.parameters(), lr=1e-6)\n",
    "criterion = nn.CrossEntropyLoss()"
   ]
  },
  {
   "cell_type": "code",
   "execution_count": 11,
   "metadata": {},
   "outputs": [
    {
     "name": "stderr",
     "output_type": "stream",
     "text": [
      "100%|█████████████████████████████████████████████████████████████████████████████████████████████████████████████████████████████████████████████████████| 50/50 [28:21:03<00:00, 2332.87s/it]\n"
     ]
    }
   ],
   "source": [
    "loss_history = []\n",
    "hit_history = []\n",
    "num_epochs = 50\n",
    "for epoch in tqdm(range(0, num_epochs)):\n",
    "    hits = 0\n",
    "    for (images, targets) in train_loader:\n",
    "        images, targets = images.to(device), targets.to(device)\n",
    "\n",
    "        optimizer.zero_grad()\n",
    "        predictions = video_classifier(images)\n",
    "        loss = criterion(predictions, targets)\n",
    "        loss.backward()\n",
    "        hits += (predictions.max(dim=1)[1] == targets).sum()\n",
    "        optimizer.step()\n",
    "    loss_history.append(loss)\n",
    "    hit_history.append(hits)\n"
   ]
  },
  {
   "cell_type": "code",
   "execution_count": 12,
   "metadata": {},
   "outputs": [
    {
     "data": {
      "text/plain": [
       "tensor(7, device='cuda:0')"
      ]
     },
     "execution_count": 12,
     "metadata": {},
     "output_type": "execute_result"
    }
   ],
   "source": [
    "(predictions.max(dim=1)[1] == targets).sum()"
   ]
  },
  {
   "cell_type": "code",
   "execution_count": 13,
   "metadata": {},
   "outputs": [
    {
     "data": {
      "text/plain": [
       "[<matplotlib.lines.Line2D at 0x24cb4d79cf8>]"
      ]
     },
     "execution_count": 13,
     "metadata": {},
     "output_type": "execute_result"
    },
    {
     "data": {
      "image/png": "[encoded data removed]",
      "text/plain": [
       "<Figure size 432x288 with 1 Axes>"
      ]
     },
     "metadata": {},
     "output_type": "display_data"
    }
   ],
   "source": [
    "plt.plot(loss_history)"
   ]
  },
  {
   "cell_type": "code",
   "execution_count": 14,
   "metadata": {},
   "outputs": [
    {
     "data": {
      "text/plain": [
       "tensor(10545, device='cuda:0')"
      ]
     },
     "execution_count": 14,
     "metadata": {},
     "output_type": "execute_result"
    }
   ],
   "source": [
    "hits"
   ]
  },
  {
   "cell_type": "code",
   "execution_count": 23,
   "metadata": {},
   "outputs": [],
   "source": [
    "acc = torch.Tensor(hit_history) / len(train_dataset.dataset.samples)"
   ]
  },
  {
   "cell_type": "code",
   "execution_count": 24,
   "metadata": {},
   "outputs": [
    {
     "data": {
      "text/plain": [
       "[<matplotlib.lines.Line2D at 0x24cb5848be0>]"
      ]
     },
     "execution_count": 24,
     "metadata": {},
     "output_type": "execute_result"
    },
    {
     "data": {
      "image/png": "[encoded data removed]",
      "text/plain": [
       "<Figure size 432x288 with 1 Axes>"
      ]
     },
     "metadata": {},
     "output_type": "display_data"
    }
   ],
   "source": [
    "plt.plot(acc.tolist())"
   ]
  },
  {
   "cell_type": "code",
   "execution_count": 35,
   "metadata": {},
   "outputs": [
    {
     "data": {
      "text/plain": [
       "14450"
      ]
     },
     "execution_count": 35,
     "metadata": {},
     "output_type": "execute_result"
    }
   ],
   "source": [
    "len(train_dataset.dataset.samples)"
   ]
  },
  {
   "cell_type": "markdown",
   "metadata": {},
   "source": [
    "## TODO\n",
    "1. Regularizar (L! pra esparsificar)\n",
    "2. Mais videos e mais frames por video\n",
    "3. Classificação por video (maioria no vídeo)\n",
    "4. Estado de atenção"
   ]
  }
 ],
 "metadata": {
  "kernelspec": {
   "display_name": "Python 3",
   "language": "python",
   "name": "python3"
  },
  "language_info": {
   "codemirror_mode": {
    "name": "ipython",
    "version": 3
   },
   "file_extension": ".py",
   "mimetype": "text/x-python",
   "name": "python",
   "nbconvert_exporter": "python",
   "pygments_lexer": "ipython3",
   "version": "3.6.5"
  }
 },
 "nbformat": 4,
 "nbformat_minor": 2
}
